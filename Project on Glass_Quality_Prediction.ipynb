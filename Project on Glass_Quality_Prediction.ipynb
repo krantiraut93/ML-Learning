{
 "cells": [
  {
   "cell_type": "code",
   "execution_count": 1,
   "id": "0a8e2459",
   "metadata": {},
   "outputs": [],
   "source": [
    "#Inport Libraries\n",
    "import pandas as pd"
   ]
  },
  {
   "cell_type": "code",
   "execution_count": 3,
   "id": "d702723f",
   "metadata": {},
   "outputs": [],
   "source": [
    "train = pd.read_csv(\"Train (1).csv\")\n",
    "test = pd.read_csv(\"Test.csv\")"
   ]
  },
  {
   "cell_type": "code",
   "execution_count": 4,
   "id": "7c700903",
   "metadata": {},
   "outputs": [
    {
     "data": {
      "text/html": [
       "<div>\n",
       "<style scoped>\n",
       "    .dataframe tbody tr th:only-of-type {\n",
       "        vertical-align: middle;\n",
       "    }\n",
       "\n",
       "    .dataframe tbody tr th {\n",
       "        vertical-align: top;\n",
       "    }\n",
       "\n",
       "    .dataframe thead th {\n",
       "        text-align: right;\n",
       "    }\n",
       "</style>\n",
       "<table border=\"1\" class=\"dataframe\">\n",
       "  <thead>\n",
       "    <tr style=\"text-align: right;\">\n",
       "      <th></th>\n",
       "      <th>grade_A_Component_1</th>\n",
       "      <th>grade_A_Component_2</th>\n",
       "      <th>max_luminosity</th>\n",
       "      <th>thickness</th>\n",
       "      <th>xmin</th>\n",
       "      <th>xmax</th>\n",
       "      <th>ymin</th>\n",
       "      <th>ymax</th>\n",
       "      <th>pixel_area</th>\n",
       "      <th>log_area</th>\n",
       "      <th>x_component_1</th>\n",
       "      <th>x_component_2</th>\n",
       "      <th>x_component_3</th>\n",
       "      <th>x_component_4</th>\n",
       "      <th>x_component_5</th>\n",
       "      <th>class</th>\n",
       "    </tr>\n",
       "  </thead>\n",
       "  <tbody>\n",
       "    <tr>\n",
       "      <th>0</th>\n",
       "      <td>0</td>\n",
       "      <td>1</td>\n",
       "      <td>150</td>\n",
       "      <td>36</td>\n",
       "      <td>144</td>\n",
       "      <td>172</td>\n",
       "      <td>947225</td>\n",
       "      <td>947332</td>\n",
       "      <td>439</td>\n",
       "      <td>439.099272</td>\n",
       "      <td>0</td>\n",
       "      <td>0</td>\n",
       "      <td>1</td>\n",
       "      <td>0</td>\n",
       "      <td>0</td>\n",
       "      <td>1</td>\n",
       "    </tr>\n",
       "    <tr>\n",
       "      <th>1</th>\n",
       "      <td>1</td>\n",
       "      <td>0</td>\n",
       "      <td>134</td>\n",
       "      <td>55</td>\n",
       "      <td>1144</td>\n",
       "      <td>1152</td>\n",
       "      <td>2379058</td>\n",
       "      <td>2379624</td>\n",
       "      <td>329</td>\n",
       "      <td>329.205616</td>\n",
       "      <td>1</td>\n",
       "      <td>0</td>\n",
       "      <td>0</td>\n",
       "      <td>0</td>\n",
       "      <td>0</td>\n",
       "      <td>1</td>\n",
       "    </tr>\n",
       "    <tr>\n",
       "      <th>2</th>\n",
       "      <td>1</td>\n",
       "      <td>0</td>\n",
       "      <td>135</td>\n",
       "      <td>65</td>\n",
       "      <td>950</td>\n",
       "      <td>974</td>\n",
       "      <td>1038442</td>\n",
       "      <td>1036754</td>\n",
       "      <td>300</td>\n",
       "      <td>300.120598</td>\n",
       "      <td>0</td>\n",
       "      <td>0</td>\n",
       "      <td>0</td>\n",
       "      <td>0</td>\n",
       "      <td>0</td>\n",
       "      <td>2</td>\n",
       "    </tr>\n",
       "    <tr>\n",
       "      <th>3</th>\n",
       "      <td>0</td>\n",
       "      <td>1</td>\n",
       "      <td>123</td>\n",
       "      <td>35</td>\n",
       "      <td>41</td>\n",
       "      <td>220</td>\n",
       "      <td>1705580</td>\n",
       "      <td>1705604</td>\n",
       "      <td>6803</td>\n",
       "      <td>6803.778622</td>\n",
       "      <td>0</td>\n",
       "      <td>0</td>\n",
       "      <td>1</td>\n",
       "      <td>0</td>\n",
       "      <td>0</td>\n",
       "      <td>1</td>\n",
       "    </tr>\n",
       "    <tr>\n",
       "      <th>4</th>\n",
       "      <td>1</td>\n",
       "      <td>0</td>\n",
       "      <td>138</td>\n",
       "      <td>69</td>\n",
       "      <td>462</td>\n",
       "      <td>466</td>\n",
       "      <td>1088124</td>\n",
       "      <td>1086579</td>\n",
       "      <td>251</td>\n",
       "      <td>251.401943</td>\n",
       "      <td>0</td>\n",
       "      <td>0</td>\n",
       "      <td>0</td>\n",
       "      <td>0</td>\n",
       "      <td>0</td>\n",
       "      <td>2</td>\n",
       "    </tr>\n",
       "  </tbody>\n",
       "</table>\n",
       "</div>"
      ],
      "text/plain": [
       "   grade_A_Component_1  grade_A_Component_2  max_luminosity  thickness  xmin  \\\n",
       "0                    0                    1             150         36   144   \n",
       "1                    1                    0             134         55  1144   \n",
       "2                    1                    0             135         65   950   \n",
       "3                    0                    1             123         35    41   \n",
       "4                    1                    0             138         69   462   \n",
       "\n",
       "   xmax     ymin     ymax  pixel_area     log_area  x_component_1  \\\n",
       "0   172   947225   947332         439   439.099272              0   \n",
       "1  1152  2379058  2379624         329   329.205616              1   \n",
       "2   974  1038442  1036754         300   300.120598              0   \n",
       "3   220  1705580  1705604        6803  6803.778622              0   \n",
       "4   466  1088124  1086579         251   251.401943              0   \n",
       "\n",
       "   x_component_2  x_component_3  x_component_4  x_component_5  class  \n",
       "0              0              1              0              0      1  \n",
       "1              0              0              0              0      1  \n",
       "2              0              0              0              0      2  \n",
       "3              0              1              0              0      1  \n",
       "4              0              0              0              0      2  "
      ]
     },
     "execution_count": 4,
     "metadata": {},
     "output_type": "execute_result"
    }
   ],
   "source": [
    "train.head()"
   ]
  },
  {
   "cell_type": "code",
   "execution_count": 5,
   "id": "cd38242b",
   "metadata": {},
   "outputs": [
    {
     "data": {
      "text/html": [
       "<div>\n",
       "<style scoped>\n",
       "    .dataframe tbody tr th:only-of-type {\n",
       "        vertical-align: middle;\n",
       "    }\n",
       "\n",
       "    .dataframe tbody tr th {\n",
       "        vertical-align: top;\n",
       "    }\n",
       "\n",
       "    .dataframe thead th {\n",
       "        text-align: right;\n",
       "    }\n",
       "</style>\n",
       "<table border=\"1\" class=\"dataframe\">\n",
       "  <thead>\n",
       "    <tr style=\"text-align: right;\">\n",
       "      <th></th>\n",
       "      <th>grade_A_Component_1</th>\n",
       "      <th>grade_A_Component_2</th>\n",
       "      <th>max_luminosity</th>\n",
       "      <th>thickness</th>\n",
       "      <th>xmin</th>\n",
       "      <th>xmax</th>\n",
       "      <th>ymin</th>\n",
       "      <th>ymax</th>\n",
       "      <th>pixel_area</th>\n",
       "      <th>log_area</th>\n",
       "      <th>x_component_1</th>\n",
       "      <th>x_component_2</th>\n",
       "      <th>x_component_3</th>\n",
       "      <th>x_component_4</th>\n",
       "      <th>x_component_5</th>\n",
       "    </tr>\n",
       "  </thead>\n",
       "  <tbody>\n",
       "    <tr>\n",
       "      <th>0</th>\n",
       "      <td>1</td>\n",
       "      <td>0</td>\n",
       "      <td>123</td>\n",
       "      <td>65</td>\n",
       "      <td>33</td>\n",
       "      <td>54</td>\n",
       "      <td>1646439</td>\n",
       "      <td>1646893</td>\n",
       "      <td>632</td>\n",
       "      <td>632.391749</td>\n",
       "      <td>0</td>\n",
       "      <td>1</td>\n",
       "      <td>0</td>\n",
       "      <td>0</td>\n",
       "      <td>0</td>\n",
       "    </tr>\n",
       "    <tr>\n",
       "      <th>1</th>\n",
       "      <td>0</td>\n",
       "      <td>1</td>\n",
       "      <td>158</td>\n",
       "      <td>99</td>\n",
       "      <td>125</td>\n",
       "      <td>132</td>\n",
       "      <td>189874</td>\n",
       "      <td>189529</td>\n",
       "      <td>421</td>\n",
       "      <td>421.928609</td>\n",
       "      <td>0</td>\n",
       "      <td>0</td>\n",
       "      <td>0</td>\n",
       "      <td>0</td>\n",
       "      <td>0</td>\n",
       "    </tr>\n",
       "    <tr>\n",
       "      <th>2</th>\n",
       "      <td>0</td>\n",
       "      <td>1</td>\n",
       "      <td>120</td>\n",
       "      <td>35</td>\n",
       "      <td>64</td>\n",
       "      <td>75</td>\n",
       "      <td>12986873</td>\n",
       "      <td>12986862</td>\n",
       "      <td>272</td>\n",
       "      <td>272.212214</td>\n",
       "      <td>1</td>\n",
       "      <td>0</td>\n",
       "      <td>0</td>\n",
       "      <td>0</td>\n",
       "      <td>0</td>\n",
       "    </tr>\n",
       "    <tr>\n",
       "      <th>3</th>\n",
       "      <td>0</td>\n",
       "      <td>1</td>\n",
       "      <td>130</td>\n",
       "      <td>39</td>\n",
       "      <td>57</td>\n",
       "      <td>177</td>\n",
       "      <td>309634</td>\n",
       "      <td>310824</td>\n",
       "      <td>3312</td>\n",
       "      <td>3312.310581</td>\n",
       "      <td>0</td>\n",
       "      <td>0</td>\n",
       "      <td>1</td>\n",
       "      <td>0</td>\n",
       "      <td>0</td>\n",
       "    </tr>\n",
       "    <tr>\n",
       "      <th>4</th>\n",
       "      <td>1</td>\n",
       "      <td>0</td>\n",
       "      <td>142</td>\n",
       "      <td>75</td>\n",
       "      <td>23</td>\n",
       "      <td>79</td>\n",
       "      <td>5368307</td>\n",
       "      <td>5367467</td>\n",
       "      <td>862</td>\n",
       "      <td>862.499179</td>\n",
       "      <td>0</td>\n",
       "      <td>0</td>\n",
       "      <td>0</td>\n",
       "      <td>0</td>\n",
       "      <td>0</td>\n",
       "    </tr>\n",
       "  </tbody>\n",
       "</table>\n",
       "</div>"
      ],
      "text/plain": [
       "   grade_A_Component_1  grade_A_Component_2  max_luminosity  thickness  xmin  \\\n",
       "0                    1                    0             123         65    33   \n",
       "1                    0                    1             158         99   125   \n",
       "2                    0                    1             120         35    64   \n",
       "3                    0                    1             130         39    57   \n",
       "4                    1                    0             142         75    23   \n",
       "\n",
       "   xmax      ymin      ymax  pixel_area     log_area  x_component_1  \\\n",
       "0    54   1646439   1646893         632   632.391749              0   \n",
       "1   132    189874    189529         421   421.928609              0   \n",
       "2    75  12986873  12986862         272   272.212214              1   \n",
       "3   177    309634    310824        3312  3312.310581              0   \n",
       "4    79   5368307   5367467         862   862.499179              0   \n",
       "\n",
       "   x_component_2  x_component_3  x_component_4  x_component_5  \n",
       "0              1              0              0              0  \n",
       "1              0              0              0              0  \n",
       "2              0              0              0              0  \n",
       "3              0              1              0              0  \n",
       "4              0              0              0              0  "
      ]
     },
     "execution_count": 5,
     "metadata": {},
     "output_type": "execute_result"
    }
   ],
   "source": [
    "test.head()"
   ]
  },
  {
   "cell_type": "code",
   "execution_count": 6,
   "id": "5db7cf08",
   "metadata": {},
   "outputs": [
    {
     "data": {
      "text/plain": [
       "(1358, 16)"
      ]
     },
     "execution_count": 6,
     "metadata": {},
     "output_type": "execute_result"
    }
   ],
   "source": [
    "train.shape"
   ]
  },
  {
   "cell_type": "code",
   "execution_count": 7,
   "id": "5de01eb4",
   "metadata": {},
   "outputs": [
    {
     "data": {
      "text/plain": [
       "(583, 15)"
      ]
     },
     "execution_count": 7,
     "metadata": {},
     "output_type": "execute_result"
    }
   ],
   "source": [
    "test.shape"
   ]
  },
  {
   "cell_type": "code",
   "execution_count": 8,
   "id": "528c4804",
   "metadata": {},
   "outputs": [
    {
     "data": {
      "text/html": [
       "<div>\n",
       "<style scoped>\n",
       "    .dataframe tbody tr th:only-of-type {\n",
       "        vertical-align: middle;\n",
       "    }\n",
       "\n",
       "    .dataframe tbody tr th {\n",
       "        vertical-align: top;\n",
       "    }\n",
       "\n",
       "    .dataframe thead th {\n",
       "        text-align: right;\n",
       "    }\n",
       "</style>\n",
       "<table border=\"1\" class=\"dataframe\">\n",
       "  <thead>\n",
       "    <tr style=\"text-align: right;\">\n",
       "      <th></th>\n",
       "      <th>grade_A_Component_1</th>\n",
       "      <th>grade_A_Component_2</th>\n",
       "      <th>max_luminosity</th>\n",
       "      <th>thickness</th>\n",
       "      <th>xmin</th>\n",
       "      <th>xmax</th>\n",
       "      <th>ymin</th>\n",
       "      <th>ymax</th>\n",
       "      <th>pixel_area</th>\n",
       "      <th>log_area</th>\n",
       "      <th>x_component_1</th>\n",
       "      <th>x_component_2</th>\n",
       "      <th>x_component_3</th>\n",
       "      <th>x_component_4</th>\n",
       "      <th>x_component_5</th>\n",
       "      <th>class</th>\n",
       "    </tr>\n",
       "  </thead>\n",
       "  <tbody>\n",
       "    <tr>\n",
       "      <th>count</th>\n",
       "      <td>1358.000000</td>\n",
       "      <td>1358.000000</td>\n",
       "      <td>1358.000000</td>\n",
       "      <td>1358.000000</td>\n",
       "      <td>1358.000000</td>\n",
       "      <td>1358.000000</td>\n",
       "      <td>1.358000e+03</td>\n",
       "      <td>1.358000e+03</td>\n",
       "      <td>1358.000000</td>\n",
       "      <td>1358.000000</td>\n",
       "      <td>1358.000000</td>\n",
       "      <td>1358.000000</td>\n",
       "      <td>1358.000000</td>\n",
       "      <td>1358.000000</td>\n",
       "      <td>1358.000000</td>\n",
       "      <td>1358.000000</td>\n",
       "    </tr>\n",
       "    <tr>\n",
       "      <th>mean</th>\n",
       "      <td>0.406480</td>\n",
       "      <td>0.593520</td>\n",
       "      <td>137.893225</td>\n",
       "      <td>78.977909</td>\n",
       "      <td>567.370398</td>\n",
       "      <td>614.032401</td>\n",
       "      <td>1.660107e+06</td>\n",
       "      <td>1.660139e+06</td>\n",
       "      <td>1903.402798</td>\n",
       "      <td>1903.896240</td>\n",
       "      <td>0.081738</td>\n",
       "      <td>0.106038</td>\n",
       "      <td>0.197349</td>\n",
       "      <td>0.035346</td>\n",
       "      <td>0.027982</td>\n",
       "      <td>1.346834</td>\n",
       "    </tr>\n",
       "    <tr>\n",
       "      <th>std</th>\n",
       "      <td>0.491357</td>\n",
       "      <td>0.491357</td>\n",
       "      <td>20.480512</td>\n",
       "      <td>55.324842</td>\n",
       "      <td>522.013094</td>\n",
       "      <td>500.505513</td>\n",
       "      <td>1.778153e+06</td>\n",
       "      <td>1.778177e+06</td>\n",
       "      <td>3839.156721</td>\n",
       "      <td>3839.163241</td>\n",
       "      <td>0.274066</td>\n",
       "      <td>0.308000</td>\n",
       "      <td>0.398145</td>\n",
       "      <td>0.184721</td>\n",
       "      <td>0.164983</td>\n",
       "      <td>0.476138</td>\n",
       "    </tr>\n",
       "    <tr>\n",
       "      <th>min</th>\n",
       "      <td>0.000000</td>\n",
       "      <td>0.000000</td>\n",
       "      <td>71.000000</td>\n",
       "      <td>35.000000</td>\n",
       "      <td>0.000000</td>\n",
       "      <td>4.000000</td>\n",
       "      <td>7.527000e+03</td>\n",
       "      <td>7.453000e+03</td>\n",
       "      <td>3.000000</td>\n",
       "      <td>3.445293</td>\n",
       "      <td>0.000000</td>\n",
       "      <td>0.000000</td>\n",
       "      <td>0.000000</td>\n",
       "      <td>0.000000</td>\n",
       "      <td>0.000000</td>\n",
       "      <td>1.000000</td>\n",
       "    </tr>\n",
       "    <tr>\n",
       "      <th>25%</th>\n",
       "      <td>0.000000</td>\n",
       "      <td>0.000000</td>\n",
       "      <td>127.000000</td>\n",
       "      <td>42.000000</td>\n",
       "      <td>53.000000</td>\n",
       "      <td>192.000000</td>\n",
       "      <td>4.662742e+05</td>\n",
       "      <td>4.666918e+05</td>\n",
       "      <td>234.000000</td>\n",
       "      <td>234.335948</td>\n",
       "      <td>0.000000</td>\n",
       "      <td>0.000000</td>\n",
       "      <td>0.000000</td>\n",
       "      <td>0.000000</td>\n",
       "      <td>0.000000</td>\n",
       "      <td>1.000000</td>\n",
       "    </tr>\n",
       "    <tr>\n",
       "      <th>50%</th>\n",
       "      <td>0.000000</td>\n",
       "      <td>1.000000</td>\n",
       "      <td>137.000000</td>\n",
       "      <td>66.000000</td>\n",
       "      <td>407.500000</td>\n",
       "      <td>457.000000</td>\n",
       "      <td>1.216168e+06</td>\n",
       "      <td>1.214700e+06</td>\n",
       "      <td>346.000000</td>\n",
       "      <td>346.044490</td>\n",
       "      <td>0.000000</td>\n",
       "      <td>0.000000</td>\n",
       "      <td>0.000000</td>\n",
       "      <td>0.000000</td>\n",
       "      <td>0.000000</td>\n",
       "      <td>1.000000</td>\n",
       "    </tr>\n",
       "    <tr>\n",
       "      <th>75%</th>\n",
       "      <td>1.000000</td>\n",
       "      <td>1.000000</td>\n",
       "      <td>146.000000</td>\n",
       "      <td>83.000000</td>\n",
       "      <td>1041.750000</td>\n",
       "      <td>1064.000000</td>\n",
       "      <td>2.210012e+06</td>\n",
       "      <td>2.210076e+06</td>\n",
       "      <td>915.250000</td>\n",
       "      <td>915.367817</td>\n",
       "      <td>0.000000</td>\n",
       "      <td>0.000000</td>\n",
       "      <td>0.000000</td>\n",
       "      <td>0.000000</td>\n",
       "      <td>0.000000</td>\n",
       "      <td>2.000000</td>\n",
       "    </tr>\n",
       "    <tr>\n",
       "      <th>max</th>\n",
       "      <td>1.000000</td>\n",
       "      <td>1.000000</td>\n",
       "      <td>266.000000</td>\n",
       "      <td>305.000000</td>\n",
       "      <td>1692.000000</td>\n",
       "      <td>1717.000000</td>\n",
       "      <td>1.291748e+07</td>\n",
       "      <td>1.291731e+07</td>\n",
       "      <td>37392.000000</td>\n",
       "      <td>37392.672970</td>\n",
       "      <td>1.000000</td>\n",
       "      <td>1.000000</td>\n",
       "      <td>1.000000</td>\n",
       "      <td>1.000000</td>\n",
       "      <td>1.000000</td>\n",
       "      <td>2.000000</td>\n",
       "    </tr>\n",
       "  </tbody>\n",
       "</table>\n",
       "</div>"
      ],
      "text/plain": [
       "       grade_A_Component_1  grade_A_Component_2  max_luminosity    thickness  \\\n",
       "count          1358.000000          1358.000000     1358.000000  1358.000000   \n",
       "mean              0.406480             0.593520      137.893225    78.977909   \n",
       "std               0.491357             0.491357       20.480512    55.324842   \n",
       "min               0.000000             0.000000       71.000000    35.000000   \n",
       "25%               0.000000             0.000000      127.000000    42.000000   \n",
       "50%               0.000000             1.000000      137.000000    66.000000   \n",
       "75%               1.000000             1.000000      146.000000    83.000000   \n",
       "max               1.000000             1.000000      266.000000   305.000000   \n",
       "\n",
       "              xmin         xmax          ymin          ymax    pixel_area  \\\n",
       "count  1358.000000  1358.000000  1.358000e+03  1.358000e+03   1358.000000   \n",
       "mean    567.370398   614.032401  1.660107e+06  1.660139e+06   1903.402798   \n",
       "std     522.013094   500.505513  1.778153e+06  1.778177e+06   3839.156721   \n",
       "min       0.000000     4.000000  7.527000e+03  7.453000e+03      3.000000   \n",
       "25%      53.000000   192.000000  4.662742e+05  4.666918e+05    234.000000   \n",
       "50%     407.500000   457.000000  1.216168e+06  1.214700e+06    346.000000   \n",
       "75%    1041.750000  1064.000000  2.210012e+06  2.210076e+06    915.250000   \n",
       "max    1692.000000  1717.000000  1.291748e+07  1.291731e+07  37392.000000   \n",
       "\n",
       "           log_area  x_component_1  x_component_2  x_component_3  \\\n",
       "count   1358.000000    1358.000000    1358.000000    1358.000000   \n",
       "mean    1903.896240       0.081738       0.106038       0.197349   \n",
       "std     3839.163241       0.274066       0.308000       0.398145   \n",
       "min        3.445293       0.000000       0.000000       0.000000   \n",
       "25%      234.335948       0.000000       0.000000       0.000000   \n",
       "50%      346.044490       0.000000       0.000000       0.000000   \n",
       "75%      915.367817       0.000000       0.000000       0.000000   \n",
       "max    37392.672970       1.000000       1.000000       1.000000   \n",
       "\n",
       "       x_component_4  x_component_5        class  \n",
       "count    1358.000000    1358.000000  1358.000000  \n",
       "mean        0.035346       0.027982     1.346834  \n",
       "std         0.184721       0.164983     0.476138  \n",
       "min         0.000000       0.000000     1.000000  \n",
       "25%         0.000000       0.000000     1.000000  \n",
       "50%         0.000000       0.000000     1.000000  \n",
       "75%         0.000000       0.000000     2.000000  \n",
       "max         1.000000       1.000000     2.000000  "
      ]
     },
     "execution_count": 8,
     "metadata": {},
     "output_type": "execute_result"
    }
   ],
   "source": [
    "train.describe()"
   ]
  },
  {
   "cell_type": "code",
   "execution_count": 9,
   "id": "dbd6a26f",
   "metadata": {},
   "outputs": [
    {
     "data": {
      "text/html": [
       "<div>\n",
       "<style scoped>\n",
       "    .dataframe tbody tr th:only-of-type {\n",
       "        vertical-align: middle;\n",
       "    }\n",
       "\n",
       "    .dataframe tbody tr th {\n",
       "        vertical-align: top;\n",
       "    }\n",
       "\n",
       "    .dataframe thead th {\n",
       "        text-align: right;\n",
       "    }\n",
       "</style>\n",
       "<table border=\"1\" class=\"dataframe\">\n",
       "  <thead>\n",
       "    <tr style=\"text-align: right;\">\n",
       "      <th></th>\n",
       "      <th>grade_A_Component_1</th>\n",
       "      <th>grade_A_Component_2</th>\n",
       "      <th>max_luminosity</th>\n",
       "      <th>thickness</th>\n",
       "      <th>xmin</th>\n",
       "      <th>xmax</th>\n",
       "      <th>ymin</th>\n",
       "      <th>ymax</th>\n",
       "      <th>pixel_area</th>\n",
       "      <th>log_area</th>\n",
       "      <th>x_component_1</th>\n",
       "      <th>x_component_2</th>\n",
       "      <th>x_component_3</th>\n",
       "      <th>x_component_4</th>\n",
       "      <th>x_component_5</th>\n",
       "    </tr>\n",
       "  </thead>\n",
       "  <tbody>\n",
       "    <tr>\n",
       "      <th>count</th>\n",
       "      <td>583.000000</td>\n",
       "      <td>583.000000</td>\n",
       "      <td>583.000000</td>\n",
       "      <td>583.000000</td>\n",
       "      <td>583.000000</td>\n",
       "      <td>583.000000</td>\n",
       "      <td>5.830000e+02</td>\n",
       "      <td>5.830000e+02</td>\n",
       "      <td>583.000000</td>\n",
       "      <td>583.000000</td>\n",
       "      <td>583.000000</td>\n",
       "      <td>583.000000</td>\n",
       "      <td>583.000000</td>\n",
       "      <td>583.000000</td>\n",
       "      <td>583.000000</td>\n",
       "    </tr>\n",
       "    <tr>\n",
       "      <th>mean</th>\n",
       "      <td>0.385935</td>\n",
       "      <td>0.614065</td>\n",
       "      <td>136.662093</td>\n",
       "      <td>78.149228</td>\n",
       "      <td>588.096055</td>\n",
       "      <td>635.425386</td>\n",
       "      <td>1.628701e+06</td>\n",
       "      <td>1.628821e+06</td>\n",
       "      <td>2368.331046</td>\n",
       "      <td>2368.838180</td>\n",
       "      <td>0.080617</td>\n",
       "      <td>0.078902</td>\n",
       "      <td>0.210978</td>\n",
       "      <td>0.041166</td>\n",
       "      <td>0.029160</td>\n",
       "    </tr>\n",
       "    <tr>\n",
       "      <th>std</th>\n",
       "      <td>0.487233</td>\n",
       "      <td>0.487233</td>\n",
       "      <td>20.112588</td>\n",
       "      <td>54.858769</td>\n",
       "      <td>517.598327</td>\n",
       "      <td>491.010380</td>\n",
       "      <td>1.767507e+06</td>\n",
       "      <td>1.767550e+06</td>\n",
       "      <td>7376.877610</td>\n",
       "      <td>7376.880091</td>\n",
       "      <td>0.272481</td>\n",
       "      <td>0.269818</td>\n",
       "      <td>0.408353</td>\n",
       "      <td>0.198845</td>\n",
       "      <td>0.168398</td>\n",
       "    </tr>\n",
       "    <tr>\n",
       "      <th>min</th>\n",
       "      <td>0.000000</td>\n",
       "      <td>0.000000</td>\n",
       "      <td>43.000000</td>\n",
       "      <td>35.000000</td>\n",
       "      <td>1.000000</td>\n",
       "      <td>9.000000</td>\n",
       "      <td>7.438000e+03</td>\n",
       "      <td>7.414000e+03</td>\n",
       "      <td>22.000000</td>\n",
       "      <td>22.200599</td>\n",
       "      <td>0.000000</td>\n",
       "      <td>0.000000</td>\n",
       "      <td>0.000000</td>\n",
       "      <td>0.000000</td>\n",
       "      <td>0.000000</td>\n",
       "    </tr>\n",
       "    <tr>\n",
       "      <th>25%</th>\n",
       "      <td>0.000000</td>\n",
       "      <td>0.000000</td>\n",
       "      <td>126.000000</td>\n",
       "      <td>42.000000</td>\n",
       "      <td>60.000000</td>\n",
       "      <td>198.000000</td>\n",
       "      <td>4.947205e+05</td>\n",
       "      <td>4.957495e+05</td>\n",
       "      <td>235.000000</td>\n",
       "      <td>235.420439</td>\n",
       "      <td>0.000000</td>\n",
       "      <td>0.000000</td>\n",
       "      <td>0.000000</td>\n",
       "      <td>0.000000</td>\n",
       "      <td>0.000000</td>\n",
       "    </tr>\n",
       "    <tr>\n",
       "      <th>50%</th>\n",
       "      <td>0.000000</td>\n",
       "      <td>1.000000</td>\n",
       "      <td>137.000000</td>\n",
       "      <td>65.000000</td>\n",
       "      <td>484.000000</td>\n",
       "      <td>518.000000</td>\n",
       "      <td>1.168512e+06</td>\n",
       "      <td>1.169583e+06</td>\n",
       "      <td>376.000000</td>\n",
       "      <td>376.661070</td>\n",
       "      <td>0.000000</td>\n",
       "      <td>0.000000</td>\n",
       "      <td>0.000000</td>\n",
       "      <td>0.000000</td>\n",
       "      <td>0.000000</td>\n",
       "    </tr>\n",
       "    <tr>\n",
       "      <th>75%</th>\n",
       "      <td>1.000000</td>\n",
       "      <td>1.000000</td>\n",
       "      <td>146.000000</td>\n",
       "      <td>85.000000</td>\n",
       "      <td>1064.500000</td>\n",
       "      <td>1081.500000</td>\n",
       "      <td>2.105844e+06</td>\n",
       "      <td>2.105480e+06</td>\n",
       "      <td>1268.500000</td>\n",
       "      <td>1268.945018</td>\n",
       "      <td>0.000000</td>\n",
       "      <td>0.000000</td>\n",
       "      <td>0.000000</td>\n",
       "      <td>0.000000</td>\n",
       "      <td>0.000000</td>\n",
       "    </tr>\n",
       "    <tr>\n",
       "      <th>max</th>\n",
       "      <td>1.000000</td>\n",
       "      <td>1.000000</td>\n",
       "      <td>232.000000</td>\n",
       "      <td>305.000000</td>\n",
       "      <td>1709.000000</td>\n",
       "      <td>1718.000000</td>\n",
       "      <td>1.298687e+07</td>\n",
       "      <td>1.298686e+07</td>\n",
       "      <td>152727.000000</td>\n",
       "      <td>152727.515949</td>\n",
       "      <td>1.000000</td>\n",
       "      <td>1.000000</td>\n",
       "      <td>1.000000</td>\n",
       "      <td>1.000000</td>\n",
       "      <td>1.000000</td>\n",
       "    </tr>\n",
       "  </tbody>\n",
       "</table>\n",
       "</div>"
      ],
      "text/plain": [
       "       grade_A_Component_1  grade_A_Component_2  max_luminosity   thickness  \\\n",
       "count           583.000000           583.000000      583.000000  583.000000   \n",
       "mean              0.385935             0.614065      136.662093   78.149228   \n",
       "std               0.487233             0.487233       20.112588   54.858769   \n",
       "min               0.000000             0.000000       43.000000   35.000000   \n",
       "25%               0.000000             0.000000      126.000000   42.000000   \n",
       "50%               0.000000             1.000000      137.000000   65.000000   \n",
       "75%               1.000000             1.000000      146.000000   85.000000   \n",
       "max               1.000000             1.000000      232.000000  305.000000   \n",
       "\n",
       "              xmin         xmax          ymin          ymax     pixel_area  \\\n",
       "count   583.000000   583.000000  5.830000e+02  5.830000e+02     583.000000   \n",
       "mean    588.096055   635.425386  1.628701e+06  1.628821e+06    2368.331046   \n",
       "std     517.598327   491.010380  1.767507e+06  1.767550e+06    7376.877610   \n",
       "min       1.000000     9.000000  7.438000e+03  7.414000e+03      22.000000   \n",
       "25%      60.000000   198.000000  4.947205e+05  4.957495e+05     235.000000   \n",
       "50%     484.000000   518.000000  1.168512e+06  1.169583e+06     376.000000   \n",
       "75%    1064.500000  1081.500000  2.105844e+06  2.105480e+06    1268.500000   \n",
       "max    1709.000000  1718.000000  1.298687e+07  1.298686e+07  152727.000000   \n",
       "\n",
       "            log_area  x_component_1  x_component_2  x_component_3  \\\n",
       "count     583.000000     583.000000     583.000000     583.000000   \n",
       "mean     2368.838180       0.080617       0.078902       0.210978   \n",
       "std      7376.880091       0.272481       0.269818       0.408353   \n",
       "min        22.200599       0.000000       0.000000       0.000000   \n",
       "25%       235.420439       0.000000       0.000000       0.000000   \n",
       "50%       376.661070       0.000000       0.000000       0.000000   \n",
       "75%      1268.945018       0.000000       0.000000       0.000000   \n",
       "max    152727.515949       1.000000       1.000000       1.000000   \n",
       "\n",
       "       x_component_4  x_component_5  \n",
       "count     583.000000     583.000000  \n",
       "mean        0.041166       0.029160  \n",
       "std         0.198845       0.168398  \n",
       "min         0.000000       0.000000  \n",
       "25%         0.000000       0.000000  \n",
       "50%         0.000000       0.000000  \n",
       "75%         0.000000       0.000000  \n",
       "max         1.000000       1.000000  "
      ]
     },
     "execution_count": 9,
     "metadata": {},
     "output_type": "execute_result"
    }
   ],
   "source": [
    "test.describe()"
   ]
  },
  {
   "cell_type": "code",
   "execution_count": 10,
   "id": "03d94c15",
   "metadata": {},
   "outputs": [
    {
     "data": {
      "text/plain": [
       "grade_A_Component_1    0\n",
       "grade_A_Component_2    0\n",
       "max_luminosity         0\n",
       "thickness              0\n",
       "xmin                   0\n",
       "xmax                   0\n",
       "ymin                   0\n",
       "ymax                   0\n",
       "pixel_area             0\n",
       "log_area               0\n",
       "x_component_1          0\n",
       "x_component_2          0\n",
       "x_component_3          0\n",
       "x_component_4          0\n",
       "x_component_5          0\n",
       "class                  0\n",
       "dtype: int64"
      ]
     },
     "execution_count": 10,
     "metadata": {},
     "output_type": "execute_result"
    }
   ],
   "source": [
    "train.isna().sum()"
   ]
  },
  {
   "cell_type": "code",
   "execution_count": 11,
   "id": "ed0e6324",
   "metadata": {},
   "outputs": [
    {
     "data": {
      "text/plain": [
       "grade_A_Component_1    0\n",
       "grade_A_Component_2    0\n",
       "max_luminosity         0\n",
       "thickness              0\n",
       "xmin                   0\n",
       "xmax                   0\n",
       "ymin                   0\n",
       "ymax                   0\n",
       "pixel_area             0\n",
       "log_area               0\n",
       "x_component_1          0\n",
       "x_component_2          0\n",
       "x_component_3          0\n",
       "x_component_4          0\n",
       "x_component_5          0\n",
       "dtype: int64"
      ]
     },
     "execution_count": 11,
     "metadata": {},
     "output_type": "execute_result"
    }
   ],
   "source": [
    "test.isna().sum()"
   ]
  },
  {
   "cell_type": "code",
   "execution_count": 12,
   "id": "97c78917",
   "metadata": {},
   "outputs": [
    {
     "name": "stdout",
     "output_type": "stream",
     "text": [
      "<class 'pandas.core.frame.DataFrame'>\n",
      "RangeIndex: 1358 entries, 0 to 1357\n",
      "Data columns (total 16 columns):\n",
      " #   Column               Non-Null Count  Dtype  \n",
      "---  ------               --------------  -----  \n",
      " 0   grade_A_Component_1  1358 non-null   int64  \n",
      " 1   grade_A_Component_2  1358 non-null   int64  \n",
      " 2   max_luminosity       1358 non-null   int64  \n",
      " 3   thickness            1358 non-null   int64  \n",
      " 4   xmin                 1358 non-null   int64  \n",
      " 5   xmax                 1358 non-null   int64  \n",
      " 6   ymin                 1358 non-null   int64  \n",
      " 7   ymax                 1358 non-null   int64  \n",
      " 8   pixel_area           1358 non-null   int64  \n",
      " 9   log_area             1358 non-null   float64\n",
      " 10  x_component_1        1358 non-null   int64  \n",
      " 11  x_component_2        1358 non-null   int64  \n",
      " 12  x_component_3        1358 non-null   int64  \n",
      " 13  x_component_4        1358 non-null   int64  \n",
      " 14  x_component_5        1358 non-null   int64  \n",
      " 15  class                1358 non-null   int64  \n",
      "dtypes: float64(1), int64(15)\n",
      "memory usage: 169.9 KB\n"
     ]
    }
   ],
   "source": [
    "train.info()"
   ]
  },
  {
   "cell_type": "code",
   "execution_count": 13,
   "id": "cc2e5a3d",
   "metadata": {},
   "outputs": [
    {
     "name": "stdout",
     "output_type": "stream",
     "text": [
      "<class 'pandas.core.frame.DataFrame'>\n",
      "RangeIndex: 583 entries, 0 to 582\n",
      "Data columns (total 15 columns):\n",
      " #   Column               Non-Null Count  Dtype  \n",
      "---  ------               --------------  -----  \n",
      " 0   grade_A_Component_1  583 non-null    int64  \n",
      " 1   grade_A_Component_2  583 non-null    int64  \n",
      " 2   max_luminosity       583 non-null    int64  \n",
      " 3   thickness            583 non-null    int64  \n",
      " 4   xmin                 583 non-null    int64  \n",
      " 5   xmax                 583 non-null    int64  \n",
      " 6   ymin                 583 non-null    int64  \n",
      " 7   ymax                 583 non-null    int64  \n",
      " 8   pixel_area           583 non-null    int64  \n",
      " 9   log_area             583 non-null    float64\n",
      " 10  x_component_1        583 non-null    int64  \n",
      " 11  x_component_2        583 non-null    int64  \n",
      " 12  x_component_3        583 non-null    int64  \n",
      " 13  x_component_4        583 non-null    int64  \n",
      " 14  x_component_5        583 non-null    int64  \n",
      "dtypes: float64(1), int64(14)\n",
      "memory usage: 68.4 KB\n"
     ]
    }
   ],
   "source": [
    "test.info()"
   ]
  },
  {
   "cell_type": "code",
   "execution_count": 14,
   "id": "e6304d04",
   "metadata": {},
   "outputs": [
    {
     "data": {
      "text/plain": [
       "3.295800096985691"
      ]
     },
     "execution_count": 14,
     "metadata": {},
     "output_type": "execute_result"
    }
   ],
   "source": [
    "train['log_area'].skew() #checking skewness"
   ]
  },
  {
   "cell_type": "code",
   "execution_count": 15,
   "id": "0c2188c1",
   "metadata": {},
   "outputs": [
    {
     "data": {
      "text/plain": [
       "439.099272      1\n",
       "6051.328747     1\n",
       "74.549697       1\n",
       "10458.347690    1\n",
       "162.243413      1\n",
       "               ..\n",
       "6097.275821     1\n",
       "13072.170530    1\n",
       "203.074115      1\n",
       "421.289919      1\n",
       "330.278867      1\n",
       "Name: log_area, Length: 1358, dtype: int64"
      ]
     },
     "execution_count": 15,
     "metadata": {},
     "output_type": "execute_result"
    }
   ],
   "source": [
    "train['log_area'].value_counts()"
   ]
  },
  {
   "cell_type": "code",
   "execution_count": 35,
   "id": "57cf12cf",
   "metadata": {},
   "outputs": [
    {
     "data": {
      "text/plain": [
       "1    887\n",
       "2    471\n",
       "Name: class, dtype: int64"
      ]
     },
     "execution_count": 35,
     "metadata": {},
     "output_type": "execute_result"
    }
   ],
   "source": [
    "train['class'].value_counts()"
   ]
  },
  {
   "cell_type": "code",
   "execution_count": 16,
   "id": "4d175ab5",
   "metadata": {},
   "outputs": [
    {
     "data": {
      "text/plain": [
       "Index(['grade_A_Component_1', 'grade_A_Component_2', 'max_luminosity',\n",
       "       'thickness', 'xmin', 'xmax', 'ymin', 'ymax', 'pixel_area', 'log_area',\n",
       "       'x_component_1', 'x_component_2', 'x_component_3', 'x_component_4',\n",
       "       'x_component_5', 'class'],\n",
       "      dtype='object')"
      ]
     },
     "execution_count": 16,
     "metadata": {},
     "output_type": "execute_result"
    }
   ],
   "source": [
    "train.columns"
   ]
  },
  {
   "cell_type": "code",
   "execution_count": 17,
   "id": "d810921d",
   "metadata": {},
   "outputs": [],
   "source": [
    "real_feat = ['grade_A_Component_1', 'grade_A_Component_2', 'max_luminosity',\n",
    "       'thickness', 'xmin', 'xmax', 'ymin', 'ymax', 'pixel_area', 'log_area',\n",
    "       'x_component_1', 'x_component_2', 'x_component_3', 'x_component_4',\n",
    "       'x_component_5']"
   ]
  },
  {
   "cell_type": "code",
   "execution_count": 19,
   "id": "2f5a4fb2",
   "metadata": {},
   "outputs": [],
   "source": [
    "real_feat_corr= train.corr()['class'][['grade_A_Component_1', 'grade_A_Component_2', 'max_luminosity',\n",
    "       'thickness', 'xmin', 'xmax', 'ymin', 'ymax', 'pixel_area', 'log_area',\n",
    "       'x_component_1', 'x_component_2', 'x_component_3', 'x_component_4',\n",
    "       'x_component_5']]"
   ]
  },
  {
   "cell_type": "code",
   "execution_count": 20,
   "id": "b8f9dcef",
   "metadata": {},
   "outputs": [
    {
     "data": {
      "text/plain": [
       "grade_A_Component_1   -0.017173\n",
       "grade_A_Component_2    0.017173\n",
       "max_luminosity         0.031459\n",
       "thickness              0.329639\n",
       "xmin                   0.147477\n",
       "xmax                   0.130023\n",
       "ymin                  -0.092489\n",
       "ymax                  -0.092485\n",
       "pixel_area            -0.214127\n",
       "log_area              -0.214127\n",
       "x_component_1         -0.217409\n",
       "x_component_2         -0.250969\n",
       "x_component_3         -0.361329\n",
       "x_component_4         -0.139487\n",
       "x_component_5         -0.123638\n",
       "Name: class, dtype: float64"
      ]
     },
     "execution_count": 20,
     "metadata": {},
     "output_type": "execute_result"
    }
   ],
   "source": [
    "real_feat_corr"
   ]
  },
  {
   "cell_type": "code",
   "execution_count": 21,
   "id": "be8469c7",
   "metadata": {},
   "outputs": [
    {
     "data": {
      "text/plain": [
       "<AxesSubplot:>"
      ]
     },
     "execution_count": 21,
     "metadata": {},
     "output_type": "execute_result"
    },
    {
     "data": {
      "image/png": "[encoded data removed]",
      "text/plain": [
       "<Figure size 864x864 with 2 Axes>"
      ]
     },
     "metadata": {
      "needs_background": "light"
     },
     "output_type": "display_data"
    }
   ],
   "source": [
    "import matplotlib.pyplot as plt\n",
    "%matplotlib inline\n",
    "import seaborn as sns\n",
    "plt.figure(figsize=(12,12))\n",
    "sns.heatmap(train[real_feat].corr(), annot=True, linewidths = 0.5)"
   ]
  },
  {
   "cell_type": "code",
   "execution_count": 22,
   "id": "b7ae4b1f",
   "metadata": {},
   "outputs": [],
   "source": [
    "X= train[real_feat]\n",
    "y = train['class']"
   ]
  },
  {
   "cell_type": "code",
   "execution_count": 23,
   "id": "763b4da2",
   "metadata": {},
   "outputs": [],
   "source": [
    "from sklearn.model_selection import train_test_split\n",
    "X_train, X_test, y_train , y_test = train_test_split(X, y, test_size=0.3)"
   ]
  },
  {
   "cell_type": "markdown",
   "id": "451e5382",
   "metadata": {},
   "source": [
    "# Random Forest Classifier"
   ]
  },
  {
   "cell_type": "code",
   "execution_count": 24,
   "id": "d7b00a01",
   "metadata": {},
   "outputs": [],
   "source": [
    "# Import Random Forest Model\n",
    "from sklearn.ensemble import RandomForestClassifier\n",
    "from sklearn.feature_selection import SelectFromModel\n",
    "\n",
    "parameters = {'bootstrap':False,\n",
    "               'min_samples_leaf':3,\n",
    "                'n_estimators':500,\n",
    "                'min_samples_split':10,\n",
    "                 'max_features': 'sqrt',\n",
    "                 'max_depth':10,\n",
    "             }\n",
    "#create a rondom forest classifier, 100 trees\n",
    "clf_rf = RandomForestClassifier(**parameters)\n",
    "\n",
    "# Train the model using traing sets\n",
    "clf_rf.fit(X_train, y_train)\n",
    "\n",
    "rf_pred = clf_rf.predict(X_test).astype(int)"
   ]
  },
  {
   "cell_type": "code",
   "execution_count": 25,
   "id": "36b34571",
   "metadata": {},
   "outputs": [
    {
     "name": "stdout",
     "output_type": "stream",
     "text": [
      "[[236  26]\n",
      " [ 35 111]]\n",
      "              precision    recall  f1-score   support\n",
      "\n",
      "           1       0.87      0.90      0.89       262\n",
      "           2       0.81      0.76      0.78       146\n",
      "\n",
      "    accuracy                           0.85       408\n",
      "   macro avg       0.84      0.83      0.84       408\n",
      "weighted avg       0.85      0.85      0.85       408\n",
      "\n",
      "Accuracy: 0.8504901960784313\n"
     ]
    }
   ],
   "source": [
    "from sklearn.metrics import classification_report, confusion_matrix, accuracy_score\n",
    "print(confusion_matrix(y_test, rf_pred))\n",
    "print(classification_report(y_test, rf_pred))\n",
    "print(\"Accuracy:\",accuracy_score(y_test, rf_pred))"
   ]
  },
  {
   "cell_type": "code",
   "execution_count": 26,
   "id": "dcd9e117",
   "metadata": {},
   "outputs": [
    {
     "data": {
      "text/plain": [
       "0.9007633587786259"
      ]
     },
     "execution_count": 26,
     "metadata": {},
     "output_type": "execute_result"
    }
   ],
   "source": [
    "from sklearn.metrics import recall_score\n",
    "recall_score(y_test,rf_pred)"
   ]
  },
  {
   "cell_type": "code",
   "execution_count": 47,
   "id": "8db15ca1",
   "metadata": {},
   "outputs": [],
   "source": [
    "rf_pred = clf_rf.predict(test[real_feat]).astype(int)\n",
    "sub = pd.DataFrame()\n",
    "#sub['grade_A_Component_1']= test['grade_A_Component_1']\n",
    "sub['class'] = rf_pred\n"
   ]
  },
  {
   "cell_type": "code",
   "execution_count": 48,
   "id": "3c95e003",
   "metadata": {},
   "outputs": [
    {
     "data": {
      "text/html": [
       "<div>\n",
       "<style scoped>\n",
       "    .dataframe tbody tr th:only-of-type {\n",
       "        vertical-align: middle;\n",
       "    }\n",
       "\n",
       "    .dataframe tbody tr th {\n",
       "        vertical-align: top;\n",
       "    }\n",
       "\n",
       "    .dataframe thead th {\n",
       "        text-align: right;\n",
       "    }\n",
       "</style>\n",
       "<table border=\"1\" class=\"dataframe\">\n",
       "  <thead>\n",
       "    <tr style=\"text-align: right;\">\n",
       "      <th></th>\n",
       "      <th>class</th>\n",
       "    </tr>\n",
       "  </thead>\n",
       "  <tbody>\n",
       "    <tr>\n",
       "      <th>0</th>\n",
       "      <td>1</td>\n",
       "    </tr>\n",
       "    <tr>\n",
       "      <th>1</th>\n",
       "      <td>2</td>\n",
       "    </tr>\n",
       "    <tr>\n",
       "      <th>2</th>\n",
       "      <td>1</td>\n",
       "    </tr>\n",
       "    <tr>\n",
       "      <th>3</th>\n",
       "      <td>1</td>\n",
       "    </tr>\n",
       "    <tr>\n",
       "      <th>4</th>\n",
       "      <td>2</td>\n",
       "    </tr>\n",
       "  </tbody>\n",
       "</table>\n",
       "</div>"
      ],
      "text/plain": [
       "   class\n",
       "0      1\n",
       "1      2\n",
       "2      1\n",
       "3      1\n",
       "4      2"
      ]
     },
     "execution_count": 48,
     "metadata": {},
     "output_type": "execute_result"
    }
   ],
   "source": [
    "sub.head()"
   ]
  },
  {
   "cell_type": "code",
   "execution_count": 32,
   "id": "c3091227",
   "metadata": {},
   "outputs": [
    {
     "data": {
      "text/plain": [
       "(583, 2)"
      ]
     },
     "execution_count": 32,
     "metadata": {},
     "output_type": "execute_result"
    }
   ],
   "source": [
    "sub.shape"
   ]
  },
  {
   "cell_type": "code",
   "execution_count": 36,
   "id": "c5d07fdc",
   "metadata": {},
   "outputs": [
    {
     "data": {
      "text/plain": [
       "1    386\n",
       "2    197\n",
       "Name: class, dtype: int64"
      ]
     },
     "execution_count": 36,
     "metadata": {},
     "output_type": "execute_result"
    }
   ],
   "source": [
    "sub['class'].value_counts()"
   ]
  },
  {
   "cell_type": "code",
   "execution_count": 49,
   "id": "da8663c9",
   "metadata": {},
   "outputs": [],
   "source": [
    "rf_pred = clf_rf.predict(test[real_feat]).astype(int)\n",
    "sub = pd.DataFrame()\n",
    "#sub['grade_A_Component_2']= test['grade_A_Component_2']\n",
    "sub['class'] = rf_pred\n"
   ]
  },
  {
   "cell_type": "code",
   "execution_count": 50,
   "id": "24d10e55",
   "metadata": {},
   "outputs": [
    {
     "data": {
      "text/html": [
       "<div>\n",
       "<style scoped>\n",
       "    .dataframe tbody tr th:only-of-type {\n",
       "        vertical-align: middle;\n",
       "    }\n",
       "\n",
       "    .dataframe tbody tr th {\n",
       "        vertical-align: top;\n",
       "    }\n",
       "\n",
       "    .dataframe thead th {\n",
       "        text-align: right;\n",
       "    }\n",
       "</style>\n",
       "<table border=\"1\" class=\"dataframe\">\n",
       "  <thead>\n",
       "    <tr style=\"text-align: right;\">\n",
       "      <th></th>\n",
       "      <th>class</th>\n",
       "    </tr>\n",
       "  </thead>\n",
       "  <tbody>\n",
       "    <tr>\n",
       "      <th>0</th>\n",
       "      <td>1</td>\n",
       "    </tr>\n",
       "    <tr>\n",
       "      <th>1</th>\n",
       "      <td>2</td>\n",
       "    </tr>\n",
       "    <tr>\n",
       "      <th>2</th>\n",
       "      <td>1</td>\n",
       "    </tr>\n",
       "    <tr>\n",
       "      <th>3</th>\n",
       "      <td>1</td>\n",
       "    </tr>\n",
       "    <tr>\n",
       "      <th>4</th>\n",
       "      <td>2</td>\n",
       "    </tr>\n",
       "  </tbody>\n",
       "</table>\n",
       "</div>"
      ],
      "text/plain": [
       "   class\n",
       "0      1\n",
       "1      2\n",
       "2      1\n",
       "3      1\n",
       "4      2"
      ]
     },
     "execution_count": 50,
     "metadata": {},
     "output_type": "execute_result"
    }
   ],
   "source": [
    "sub.head()"
   ]
  },
  {
   "cell_type": "code",
   "execution_count": 51,
   "id": "590bef8b",
   "metadata": {},
   "outputs": [
    {
     "data": {
      "text/plain": [
       "1    386\n",
       "2    197\n",
       "Name: class, dtype: int64"
      ]
     },
     "execution_count": 51,
     "metadata": {},
     "output_type": "execute_result"
    }
   ],
   "source": [
    "sub['class'].value_counts()"
   ]
  },
  {
   "cell_type": "markdown",
   "id": "3812acfb",
   "metadata": {},
   "source": [
    "# Support Vector Machine (SVM)"
   ]
  },
  {
   "cell_type": "code",
   "execution_count": 40,
   "id": "654fed79",
   "metadata": {},
   "outputs": [
    {
     "data": {
      "text/plain": [
       "SVC()"
      ]
     },
     "execution_count": 40,
     "metadata": {},
     "output_type": "execute_result"
    }
   ],
   "source": [
    "#Building a model\n",
    "from sklearn.svm import SVC\n",
    "svclf = SVC()\n",
    "svclf.fit(X_train,y_train)"
   ]
  },
  {
   "cell_type": "code",
   "execution_count": 41,
   "id": "9f0e0d2f",
   "metadata": {},
   "outputs": [],
   "source": [
    "# making prediction\n",
    "y_pred = svclf.predict(X_test)"
   ]
  },
  {
   "cell_type": "code",
   "execution_count": 42,
   "id": "d7a8a785",
   "metadata": {},
   "outputs": [
    {
     "data": {
      "text/plain": [
       "array([1, 1, 2, 2, 1, 1, 1, 1, 1, 1, 1, 1, 1, 1, 1, 1, 1, 1, 1, 1, 1, 1,\n",
       "       1, 1, 1, 1, 1, 1, 1, 1, 1, 1, 1, 1, 1, 1, 1, 1, 1, 1, 1, 1, 1, 1,\n",
       "       1, 1, 1, 1, 1, 1, 1, 1, 1, 1, 1, 1, 1, 1, 1, 1, 1, 1, 1, 1, 1, 1,\n",
       "       1, 1, 1, 1, 1, 1, 1, 1, 1, 1, 1, 1, 1, 1, 1, 1, 1, 1, 1, 1, 1, 1,\n",
       "       1, 1, 1, 1, 1, 1, 1, 1, 1, 1, 1, 1, 1, 1, 1, 1, 1, 1, 1, 1, 1, 1,\n",
       "       1, 1, 1, 1, 1, 1, 1, 1, 1, 1, 1, 1, 1, 1, 1, 1, 1, 1, 1, 1, 1, 1,\n",
       "       1, 1, 1, 1, 1, 1, 1, 1, 1, 1, 1, 1, 1, 1, 1, 1, 1, 1, 1, 1, 1, 1,\n",
       "       1, 1, 1, 1, 1, 1, 1, 1, 1, 1, 1, 1, 1, 1, 1, 1, 1, 1, 1, 1, 1, 1,\n",
       "       1, 1, 1, 1, 1, 1, 1, 1, 1, 1, 1, 1, 1, 1, 1, 1, 1, 1, 1, 1, 1, 1,\n",
       "       1, 1, 1, 1, 1, 1, 1, 1, 1, 1, 1, 1, 1, 1, 1, 1, 1, 1, 1, 1, 1, 1,\n",
       "       1, 1, 1, 1, 1, 1, 1, 1, 1, 1, 1, 1, 1, 1, 1, 1, 1, 1, 1, 1, 1, 1,\n",
       "       1, 1, 1, 1, 1, 1, 1, 1, 1, 1, 1, 1, 1, 1, 1, 1, 1, 1, 2, 1, 1, 1,\n",
       "       1, 1, 1, 1, 1, 1, 1, 1, 1, 1, 1, 1, 1, 1, 1, 1, 1, 1, 1, 1, 1, 1,\n",
       "       1, 1, 1, 1, 1, 1, 1, 1, 1, 1, 1, 1, 1, 1, 1, 1, 1, 1, 1, 1, 1, 1,\n",
       "       1, 1, 1, 1, 1, 1, 1, 2, 1, 1, 1, 1, 1, 1, 1, 1, 1, 1, 1, 1, 1, 1,\n",
       "       1, 1, 1, 1, 1, 1, 1, 1, 1, 1, 1, 1, 1, 1, 1, 1, 1, 1, 1, 1, 1, 1,\n",
       "       1, 1, 1, 1, 1, 1, 1, 1, 1, 1, 1, 1, 1, 1, 1, 1, 1, 1, 1, 1, 1, 1,\n",
       "       1, 1, 1, 1, 1, 1, 1, 1, 1, 1, 1, 1, 1, 1, 1, 1, 1, 1, 1, 1, 1, 1,\n",
       "       1, 1, 1, 1, 1, 1, 1, 1, 1, 1, 1, 1], dtype=int64)"
      ]
     },
     "execution_count": 42,
     "metadata": {},
     "output_type": "execute_result"
    }
   ],
   "source": [
    "y_pred"
   ]
  },
  {
   "cell_type": "code",
   "execution_count": 44,
   "id": "effc74b3",
   "metadata": {},
   "outputs": [
    {
     "name": "stdout",
     "output_type": "stream",
     "text": [
      "[[260   2]\n",
      " [144   2]]\n",
      "              precision    recall  f1-score   support\n",
      "\n",
      "           1       0.64      0.99      0.78       262\n",
      "           2       0.50      0.01      0.03       146\n",
      "\n",
      "    accuracy                           0.64       408\n",
      "   macro avg       0.57      0.50      0.40       408\n",
      "weighted avg       0.59      0.64      0.51       408\n",
      "\n",
      "Accuracy: 0.6421568627450981\n"
     ]
    }
   ],
   "source": [
    "#Evaluating a model\n",
    "from sklearn.metrics import classification_report,confusion_matrix,accuracy_score\n",
    "print(confusion_matrix(y_test,y_pred))\n",
    "print(classification_report(y_test,y_pred))\n",
    "print(\"Accuracy:\",accuracy_score(y_test, y_pred))"
   ]
  },
  {
   "cell_type": "code",
   "execution_count": 45,
   "id": "f5c7a294",
   "metadata": {},
   "outputs": [
    {
     "data": {
      "text/plain": [
       "0.9923664122137404"
      ]
     },
     "execution_count": 45,
     "metadata": {},
     "output_type": "execute_result"
    }
   ],
   "source": [
    "from sklearn.metrics import recall_score\n",
    "recall_score(y_test,y_pred)"
   ]
  },
  {
   "cell_type": "code",
   "execution_count": 46,
   "id": "445a96e8",
   "metadata": {},
   "outputs": [
    {
     "name": "stderr",
     "output_type": "stream",
     "text": [
      "C:\\Users\\Kranti\\anaconda3\\lib\\site-packages\\sklearn\\base.py:445: UserWarning: X does not have valid feature names, but SVC was fitted with feature names\n",
      "  warnings.warn(\n"
     ]
    },
    {
     "data": {
      "text/plain": [
       "array([1], dtype=int64)"
      ]
     },
     "execution_count": 46,
     "metadata": {},
     "output_type": "execute_result"
    }
   ],
   "source": [
    "svclf.predict([[11,54,77,0.5,55.55,76,6,5,8,8,44,54,90,78,12]])"
   ]
  },
  {
   "cell_type": "code",
   "execution_count": 54,
   "id": "16fb35b9",
   "metadata": {},
   "outputs": [],
   "source": [
    "svm_pred = svclf.predict(test[real_feat]).astype(int)\n",
    "sub = pd.DataFrame()\n",
    "#sub['grade_A_Component_2']= test['grade_A_Component_2']\n",
    "sub['class'] = svm_pred\n"
   ]
  },
  {
   "cell_type": "code",
   "execution_count": 55,
   "id": "e1e44dc6",
   "metadata": {},
   "outputs": [
    {
     "data": {
      "text/html": [
       "<div>\n",
       "<style scoped>\n",
       "    .dataframe tbody tr th:only-of-type {\n",
       "        vertical-align: middle;\n",
       "    }\n",
       "\n",
       "    .dataframe tbody tr th {\n",
       "        vertical-align: top;\n",
       "    }\n",
       "\n",
       "    .dataframe thead th {\n",
       "        text-align: right;\n",
       "    }\n",
       "</style>\n",
       "<table border=\"1\" class=\"dataframe\">\n",
       "  <thead>\n",
       "    <tr style=\"text-align: right;\">\n",
       "      <th></th>\n",
       "      <th>class</th>\n",
       "    </tr>\n",
       "  </thead>\n",
       "  <tbody>\n",
       "    <tr>\n",
       "      <th>0</th>\n",
       "      <td>1</td>\n",
       "    </tr>\n",
       "    <tr>\n",
       "      <th>1</th>\n",
       "      <td>1</td>\n",
       "    </tr>\n",
       "    <tr>\n",
       "      <th>2</th>\n",
       "      <td>1</td>\n",
       "    </tr>\n",
       "    <tr>\n",
       "      <th>3</th>\n",
       "      <td>1</td>\n",
       "    </tr>\n",
       "    <tr>\n",
       "      <th>4</th>\n",
       "      <td>1</td>\n",
       "    </tr>\n",
       "  </tbody>\n",
       "</table>\n",
       "</div>"
      ],
      "text/plain": [
       "   class\n",
       "0      1\n",
       "1      1\n",
       "2      1\n",
       "3      1\n",
       "4      1"
      ]
     },
     "execution_count": 55,
     "metadata": {},
     "output_type": "execute_result"
    }
   ],
   "source": [
    "sub.head()"
   ]
  },
  {
   "cell_type": "code",
   "execution_count": null,
   "id": "d4e66683",
   "metadata": {},
   "outputs": [],
   "source": []
  }
 ],
 "metadata": {
  "kernelspec": {
   "display_name": "Python 3 (ipykernel)",
   "language": "python",
   "name": "python3"
  },
  "language_info": {
   "codemirror_mode": {
    "name": "ipython",
    "version": 3
   },
   "file_extension": ".py",
   "mimetype": "text/x-python",
   "name": "python",
   "nbconvert_exporter": "python",
   "pygments_lexer": "ipython3",
   "version": "3.8.12"
  }
 },
 "nbformat": 4,
 "nbformat_minor": 5
}
